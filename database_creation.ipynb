{
 "cells": [
  {
   "cell_type": "code",
   "execution_count": 1,
   "id": "9550cb19",
   "metadata": {},
   "outputs": [
    {
     "name": "stdout",
     "output_type": "stream",
     "text": [
      "(150346, 14)\n",
      "(131930, 2)\n",
      "(6990280, 9)\n",
      "(908915, 5)\n",
      "(1987897, 22)\n"
     ]
    }
   ],
   "source": [
    "import pandas as pd \n",
    "import json\n",
    "from sqlalchemy import create_engine\n",
    "with open('yelp_academic_dataset_business.json', 'r', encoding='utf-8') as f:\n",
    "    business_data = [json.loads(line) for line in f]\n",
    "business_df = pd.DataFrame(business_data)\n",
    "\n",
    "with open('yelp_academic_dataset_checkin.json', 'r',  encoding='utf-8') as f:\n",
    "    checkin_data = [json.loads(line) for line in f] \n",
    "checkin_df = pd.DataFrame(checkin_data)\n",
    "\n",
    "with open('yelp_academic_dataset_review.json', 'r', encoding='utf-8') as f:\n",
    "    review_data = [json.loads(line) for line in f] \n",
    "review_df = pd.DataFrame (review_data)\n",
    "\n",
    "with open('yelp_academic_dataset_tip.json', 'r', encoding='utf-8') as f:\n",
    "    tip_data = [json.loads(line) for line in f]\n",
    "tip_df = pd.DataFrame(tip_data)\n",
    "\n",
    "with open('yelp_academic_dataset_user.json', 'r', encoding='utf-8') as f:\n",
    "    user_data = [json.loads(line) for line in f]\n",
    "user_df = pd.DataFrame(user_data)\n",
    "\n",
    "print (business_df.shape)\n",
    "print(checkin_df.shape)\n",
    "print (review_df.shape)\n",
    "print(tip_df.shape)\n",
    "print(user_df.shape)"
   ]
  },
  {
   "cell_type": "code",
   "execution_count": 2,
   "id": "4b4f1a46",
   "metadata": {},
   "outputs": [],
   "source": [
    "business_df.drop(['attributes','hours'],axis= 1, inplace = True)"
   ]
  },
  {
   "cell_type": "code",
   "execution_count": 3,
   "id": "5af14766",
   "metadata": {},
   "outputs": [
    {
     "name": "stdout",
     "output_type": "stream",
     "text": [
      "bussiness table created\n",
      "review table created\n",
      "user table created\n",
      "tip table created\n",
      "checkin table created\n"
     ]
    }
   ],
   "source": [
    "from sqlalchemy import create_engine\n",
    "\n",
    "def load_dataframe(df, table_name, engine):\n",
    "    df.to_sql(table_name, con=engine, if_exists='replace', index=False, chunksize=1000)\n",
    "\n",
    "# Create an engine instance\n",
    "engine = create_engine('sqlite:///yelp.db')\n",
    "# Load each DataFrame into a separate table\n",
    "load_dataframe(business_df, 'business', engine)\n",
    "print(\"bussiness table created\")\n",
    "load_dataframe(review_df, 'review', engine)\n",
    "print(\"review table created\")\n",
    "load_dataframe(user_df, 'user', engine)\n",
    "print(\"user table created\")\n",
    "load_dataframe(tip_df, 'tip', engine)\n",
    "print(\"tip table created\")\n",
    "load_dataframe(checkin_df, 'checkin', engine)\n",
    "print(\"checkin table created\")\n"
   ]
  },
  {
   "cell_type": "code",
   "execution_count": null,
   "id": "9b52141a",
   "metadata": {},
   "outputs": [],
   "source": []
  },
  {
   "cell_type": "code",
   "execution_count": null,
   "id": "1e94b89c",
   "metadata": {},
   "outputs": [],
   "source": []
  },
  {
   "cell_type": "code",
   "execution_count": null,
   "id": "ba03fdc9",
   "metadata": {},
   "outputs": [],
   "source": []
  },
  {
   "cell_type": "code",
   "execution_count": null,
   "id": "f207e5d2",
   "metadata": {},
   "outputs": [],
   "source": []
  }
 ],
 "metadata": {
  "kernelspec": {
   "display_name": "Python 3 (ipykernel)",
   "language": "python",
   "name": "python3"
  },
  "language_info": {
   "codemirror_mode": {
    "name": "ipython",
    "version": 3
   },
   "file_extension": ".py",
   "mimetype": "text/x-python",
   "name": "python",
   "nbconvert_exporter": "python",
   "pygments_lexer": "ipython3",
   "version": "3.11.7"
  }
 },
 "nbformat": 4,
 "nbformat_minor": 5
}
